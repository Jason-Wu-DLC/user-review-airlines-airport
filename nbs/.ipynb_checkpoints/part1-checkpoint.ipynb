{
 "cells": [
  {
   "cell_type": "markdown",
   "metadata": {},
   "source": [
    "# INFS3208 Individual Project \n",
    "# yulin wu 45659016"
   ]
  },
  {
   "cell_type": "markdown",
   "metadata": {},
   "source": [
    "# Big data analysis of aviation services based on Skytrax user review dataset\n",
    "\n",
    "# Part 1 A random forest classifier predicts whether a user would recommend an airline based on multiple input features (the recommended field is used as a label)"
   ]
  },
  {
   "cell_type": "code",
   "execution_count": 1,
   "metadata": {},
   "outputs": [],
   "source": [
    "# Read"
   ]
  },
  {
   "cell_type": "code",
   "execution_count": 2,
   "metadata": {},
   "outputs": [],
   "source": [
    "from pyspark.sql import SparkSession\n",
    "from pyspark.sql.types import StructType, StructField, StringType, FloatType, IntegerType"
   ]
  },
  {
   "cell_type": "code",
   "execution_count": 3,
   "metadata": {},
   "outputs": [],
   "source": [
    "schema = StructType([\n",
    "    StructField(\"airline_name\", StringType(), True),\n",
    "    StructField(\"link\", StringType(), True),\n",
    "    StructField(\"title\", StringType(), True),\n",
    "    StructField(\"author\", StringType(), True),\n",
    "    StructField(\"author_country\", StringType(), True),\n",
    "    StructField(\"date\", StringType(), True),\n",
    "    StructField(\"content\", StringType(), True),\n",
    "    StructField(\"aircraft\", StringType(), True),\n",
    "    StructField(\"type_traveller\", StringType(), True),\n",
    "    StructField(\"cabin_flown\", StringType(), True),\n",
    "    StructField(\"route\", StringType(), True),\n",
    "    StructField(\"overall_rating\", FloatType(), True),\n",
    "    StructField(\"seat_comfort_rating\", FloatType(), True),\n",
    "    StructField(\"cabin_staff_rating\", FloatType(), True),\n",
    "    StructField(\"food_beverages_rating\", FloatType(), True),\n",
    "    StructField(\"inflight_entertainment_rating\", FloatType(), True),\n",
    "    StructField(\"ground_service_rating\", FloatType(), True),\n",
    "    StructField(\"wifi_connectivity_rating\", FloatType(), True),\n",
    "    StructField(\"value_money_rating\", FloatType(), True),\n",
    "    StructField(\"recommended\", IntegerType(), True)\n",
    "])\n"
   ]
  },
  {
   "cell_type": "code",
   "execution_count": 4,
   "metadata": {},
   "outputs": [],
   "source": [
    "spark = SparkSession.builder\\\n",
    ".appName(\"Airline_Recommendation_Classification\")\\\n",
    ".getOrCreate()"
   ]
  },
  {
   "cell_type": "code",
   "execution_count": 6,
   "metadata": {},
   "outputs": [],
   "source": [
    "airline_df = spark.read.csv(\"hdfs://namenode:9000/raw/airline.csv\", header=True, schema=schema)"
   ]
  },
  {
   "cell_type": "markdown",
   "metadata": {},
   "source": [
    "# Pre Read data"
   ]
  },
  {
   "cell_type": "code",
   "execution_count": 7,
   "metadata": {
    "scrolled": true
   },
   "outputs": [
    {
     "name": "stdout",
     "output_type": "stream",
     "text": [
      "root\n",
      " |-- airline_name: string (nullable = true)\n",
      " |-- link: string (nullable = true)\n",
      " |-- title: string (nullable = true)\n",
      " |-- author: string (nullable = true)\n",
      " |-- author_country: string (nullable = true)\n",
      " |-- date: string (nullable = true)\n",
      " |-- content: string (nullable = true)\n",
      " |-- aircraft: string (nullable = true)\n",
      " |-- type_traveller: string (nullable = true)\n",
      " |-- cabin_flown: string (nullable = true)\n",
      " |-- route: string (nullable = true)\n",
      " |-- overall_rating: float (nullable = true)\n",
      " |-- seat_comfort_rating: float (nullable = true)\n",
      " |-- cabin_staff_rating: float (nullable = true)\n",
      " |-- food_beverages_rating: float (nullable = true)\n",
      " |-- inflight_entertainment_rating: float (nullable = true)\n",
      " |-- ground_service_rating: float (nullable = true)\n",
      " |-- wifi_connectivity_rating: float (nullable = true)\n",
      " |-- value_money_rating: float (nullable = true)\n",
      " |-- recommended: integer (nullable = true)\n",
      "\n"
     ]
    }
   ],
   "source": [
    "airline_df.printSchema()"
   ]
  },
  {
   "cell_type": "code",
   "execution_count": 8,
   "metadata": {},
   "outputs": [
    {
     "name": "stdout",
     "output_type": "stream",
     "text": [
      "+-------+--------------+--------------------+--------------------+--------------------+--------------------+--------------------+--------------------+--------------------+--------------------+--------------------+------------------+-----------------+-------------------+------------------+---------------------+-----------------------------+---------------------+------------------------+------------------+-------------------+\n",
      "|summary|  airline_name|                link|               title|              author|      author_country|                date|             content|            aircraft|      type_traveller|         cabin_flown|             route|   overall_rating|seat_comfort_rating|cabin_staff_rating|food_beverages_rating|inflight_entertainment_rating|ground_service_rating|wifi_connectivity_rating|value_money_rating|        recommended|\n",
      "+-------+--------------+--------------------+--------------------+--------------------+--------------------+--------------------+--------------------+--------------------+--------------------+--------------------+------------------+-----------------+-------------------+------------------+---------------------+-----------------------------+---------------------+------------------------+------------------+-------------------+\n",
      "|  count|         41455|               41441|               41439|               41440|               39845|               41437|               41442|                1410|                2348|               38499|              2311|            36627|              33531|             33566|                33209|                        31094|                 2145|                     660|             39591|              41148|\n",
      "|   mean|          null|                null|                null|                null|                 3.2|                5.05|   3.185185185185185|              271.25|            27.15625|                 3.0|1.9230769230769231|6.077292707565457|  3.099907548238943|3.3220222844545075|   2.8079135174199763|            2.392905383675307|   2.7836829836829837|       2.287878787878788| 3.167209719380667| 0.5353358607951784|\n",
      "| stddev|          null|                null|                null|                null|  3.3466401061363023|   3.456115860631015|    2.18450904600548|  357.64778228057384|  138.66392636805887|  1.7728105208558367| 1.497861723788195|5.190769545179673| 1.4082466599766919|1.5440332782706807|   1.5829250329913063|           1.7064023340722712|   1.5875608027533485|      1.5549143935679481|1.5236045558408302|0.49875587452533776|\n",
      "|    min|\",\"ATR-72-600\"| Germany to Toron...| I booked a fligh...| Doha - Bahrain o...| I hope these guy...| arriving home at...| I fly up to Lisb...| \"\"yes\"\" only. So...|  I was able at D...| \"\"I'll be right ...|              \"\"Oh|              1.0|                0.0|               0.0|                  0.0|                          0.0|                  0.0|                     0.0|               0.0|                  0|\n",
      "|    max|       yemenia|        Solo Leisure|flydubai customer...|     İlim Çelebioğlu|            Zimbabwe|        Solo Leisure|‘Biz’ class from ...|                md80|        Solo Leisure|        Solo Leisure| İstanbul to Adana|            787.0|               10.0|              10.0|                 10.0|                         10.0|                 10.0|                     8.0|              10.0|                  1|\n",
      "+-------+--------------+--------------------+--------------------+--------------------+--------------------+--------------------+--------------------+--------------------+--------------------+--------------------+------------------+-----------------+-------------------+------------------+---------------------+-----------------------------+---------------------+------------------------+------------------+-------------------+\n",
      "\n"
     ]
    }
   ],
   "source": [
    "airline_df.describe().show()"
   ]
  },
  {
   "cell_type": "code",
   "execution_count": 9,
   "metadata": {},
   "outputs": [
    {
     "name": "stdout",
     "output_type": "stream",
     "text": [
      "+-----------+\n",
      "|recommended|\n",
      "+-----------+\n",
      "|       null|\n",
      "|          1|\n",
      "|          0|\n",
      "+-----------+\n",
      "\n"
     ]
    }
   ],
   "source": [
    "airline_df.select(\"recommended\").distinct().show()"
   ]
  },
  {
   "cell_type": "code",
   "execution_count": 10,
   "metadata": {},
   "outputs": [
    {
     "name": "stdout",
     "output_type": "stream",
     "text": [
      "+--------------------+---------------+\n",
      "|           Variables|Percent_Missing|\n",
      "+--------------------+---------------+\n",
      "|wifi_connectivity...|          98.41|\n",
      "|            aircraft|           96.6|\n",
      "|ground_service_ra...|          94.83|\n",
      "|               route|          94.43|\n",
      "|      type_traveller|          94.34|\n",
      "|inflight_entertai...|          24.99|\n",
      "|food_beverages_ra...|          19.89|\n",
      "| seat_comfort_rating|          19.11|\n",
      "|  cabin_staff_rating|          19.03|\n",
      "|      overall_rating|          11.65|\n",
      "|         cabin_flown|           7.13|\n",
      "|  value_money_rating|            4.5|\n",
      "|      author_country|           3.88|\n",
      "|         recommended|           0.74|\n",
      "|               title|           0.04|\n",
      "|                date|           0.04|\n",
      "|              author|           0.04|\n",
      "|                link|           0.03|\n",
      "|             content|           0.03|\n",
      "+--------------------+---------------+\n",
      "\n"
     ]
    }
   ],
   "source": [
    "from pyspark.sql.functions import col, isnan, isnull, count, when, round\n",
    "\n",
    "\"\"\"\n",
    "/*\n",
    "The code snippet (PySpark Missing Data Imputation – How to handle missing values in PySpark) below has been adapted from\n",
    "https://www.machinelearningplus.com/pyspark/pyspark-missing-data-imputation/\n",
    "I have changed adjusted the loop functionality\n",
    "*/\n",
    "\n",
    "\n",
    "\"\"\"\n",
    "def calculate_missing_percentage(df):\n",
    "    # Count the total number of rows in the DataFrame to use for calculating percentages\n",
    "    total_rows = df.count()\n",
    "\n",
    "    # Aggregate the DataFrame to count missing (null or NaN) entries per column\n",
    "    missing_count_df = df.agg(*[count(when(isnull(c) | isnan(c), c)).alias(c) for c in df.columns])\n",
    "\n",
    "    # Collect the missing counts into a dictionary\n",
    "    missing_count = missing_count_df.collect()[0].asDict()\n",
    "\n",
    "    # Calculate the percentage of missing data for each column and filter out columns with no missing data\n",
    "    missing_percentage = {column: (value / total_rows) * 100 for column, value in missing_count.items() if value > 0}\n",
    "\n",
    "    # Check if the missing_percentage dictionary is empty, which means there is no missing data\n",
    "    if not missing_percentage:\n",
    "        # Return a DataFrame with a message about no missing data\n",
    "        print(\"No missing data.\")\n",
    "        missing_percent = spark.createDataFrame([(\"No missing data\", 0)], [\"Variables\", \"Percent_Missing\"])\n",
    "    else:\n",
    "        # Create a DataFrame from the missing percentage dictionary\n",
    "        missing_percentage_df = spark.createDataFrame([(k, v) for k, v in missing_percentage.items()], [\"Variables\", \"Percent_Missing\"])\n",
    "\n",
    "        # Round the percentage values to two decimal places and sort by descending order\n",
    "        missing_percent = missing_percentage_df.withColumn(\"Percent_Missing\", round(missing_percentage_df[\"Percent_Missing\"], 2))\n",
    "        missing_percent = missing_percent.sort(\"Percent_Missing\", ascending=False)\n",
    "\n",
    "    return missing_percent\n",
    "\n",
    "\n",
    "airline_review_missing = calculate_missing_percentage(airline_df)\n",
    "airline_review_missing.show()  # Display the results\n",
    "\n"
   ]
  },
  {
   "cell_type": "markdown",
   "metadata": {},
   "source": [
    "# Data cleaning\n"
   ]
  },
  {
   "cell_type": "markdown",
   "metadata": {},
   "source": [
    "In this assignment, only value-related issues are considered, and natural language processing are not considered."
   ]
  },
  {
   "cell_type": "code",
   "execution_count": 11,
   "metadata": {},
   "outputs": [],
   "source": [
    "# Remove columns with many missing values and unnecessary columns\n",
    "airline_df_cleaned = airline_df.drop(\"link\", \"title\", \"author\", \"author_country\", \"content\", \"route\", \"type_traveller\", \"aircraft\",\"date\" ,\"year\",\"month\", \"cabin_flown\", \"wifi_connectivity_rating\" ,\"ground_service_rating\")\n"
   ]
  },
  {
   "cell_type": "code",
   "execution_count": 12,
   "metadata": {},
   "outputs": [
    {
     "name": "stdout",
     "output_type": "stream",
     "text": [
      "root\n",
      " |-- airline_name: string (nullable = true)\n",
      " |-- overall_rating: float (nullable = true)\n",
      " |-- seat_comfort_rating: float (nullable = true)\n",
      " |-- cabin_staff_rating: float (nullable = true)\n",
      " |-- food_beverages_rating: float (nullable = true)\n",
      " |-- inflight_entertainment_rating: float (nullable = true)\n",
      " |-- value_money_rating: float (nullable = true)\n",
      " |-- recommended: integer (nullable = true)\n",
      "\n"
     ]
    }
   ],
   "source": [
    "airline_df_cleaned.printSchema()"
   ]
  },
  {
   "cell_type": "code",
   "execution_count": null,
   "metadata": {},
   "outputs": [],
   "source": []
  },
  {
   "cell_type": "code",
   "execution_count": 13,
   "metadata": {},
   "outputs": [],
   "source": [
    "\"\"\"\n",
    "The code snippet (PySpark Missing Data Imputation – How to handle missing values in PySpark) below has been adapted from\n",
    "https://www.machinelearningplus.com/pyspark/pyspark-missing-data-imputation/\n",
    "I have changed using \n",
    "\"\"\"\n",
    "\n",
    "from pyspark.sql.types import IntegerType, FloatType, DoubleType\n",
    "\n",
    "numeric_column_names = [column.name for column in airline_df_cleaned.schema.fields\n",
    "                        if isinstance(column.dataType, (FloatType))]"
   ]
  },
  {
   "cell_type": "code",
   "execution_count": 14,
   "metadata": {},
   "outputs": [],
   "source": [
    "from pyspark.ml.feature import Imputer\n",
    "\n",
    "# Initialize the Imputer\n",
    "imputer = Imputer(\n",
    "    inputCols= numeric_column_names, \n",
    "    outputCols=numeric_column_names, \n",
    "    strategy=\"mean\"                  \n",
    ")"
   ]
  },
  {
   "cell_type": "code",
   "execution_count": 15,
   "metadata": {},
   "outputs": [
    {
     "name": "stdout",
     "output_type": "stream",
     "text": [
      "+-------------+--------------+-------------------+------------------+---------------------+-----------------------------+------------------+-----------+\n",
      "| airline_name|overall_rating|seat_comfort_rating|cabin_staff_rating|food_beverages_rating|inflight_entertainment_rating|value_money_rating|recommended|\n",
      "+-------------+--------------+-------------------+------------------+---------------------+-----------------------------+------------------+-----------+\n",
      "|adria-airways|           7.0|                4.0|               4.0|                  4.0|                          0.0|               4.0|          1|\n",
      "|adria-airways|          10.0|                4.0|               5.0|                  4.0|                          1.0|               5.0|          1|\n",
      "|adria-airways|           9.0|                5.0|               5.0|                  4.0|                          0.0|               5.0|          1|\n",
      "|adria-airways|           8.0|                4.0|               4.0|                  3.0|                          1.0|               4.0|          1|\n",
      "|adria-airways|           4.0|                4.0|               2.0|                  1.0|                          2.0|               2.0|          0|\n",
      "+-------------+--------------+-------------------+------------------+---------------------+-----------------------------+------------------+-----------+\n",
      "only showing top 5 rows\n",
      "\n"
     ]
    }
   ],
   "source": [
    "# Fit the Imputer\n",
    "model = imputer.fit(airline_df_cleaned)\n",
    "\n",
    "# Transform the dataset\n",
    "imputed_df = model.transform(airline_df_cleaned)\n",
    "\n",
    "imputed_df.show(5)"
   ]
  },
  {
   "cell_type": "code",
   "execution_count": 16,
   "metadata": {},
   "outputs": [],
   "source": [
    "airline_df_cleaned = imputed_df.dropna(subset=[\"recommended\"])"
   ]
  },
  {
   "cell_type": "code",
   "execution_count": 17,
   "metadata": {},
   "outputs": [
    {
     "name": "stdout",
     "output_type": "stream",
     "text": [
      "No missing data.\n",
      "+---------------+---------------+\n",
      "|      Variables|Percent_Missing|\n",
      "+---------------+---------------+\n",
      "|No missing data|              0|\n",
      "+---------------+---------------+\n",
      "\n"
     ]
    }
   ],
   "source": [
    "airline_review_missing = calculate_missing_percentage(airline_df_cleaned)\n",
    "airline_review_missing.show()"
   ]
  },
  {
   "cell_type": "code",
   "execution_count": null,
   "metadata": {},
   "outputs": [],
   "source": []
  },
  {
   "cell_type": "markdown",
   "metadata": {},
   "source": [
    "# RandomForestClassifier processing"
   ]
  },
  {
   "cell_type": "code",
   "execution_count": 39,
   "metadata": {},
   "outputs": [
    {
     "name": "stdout",
     "output_type": "stream",
     "text": [
      "+--------------------+-----------+----------+\n",
      "|            features|recommended|prediction|\n",
      "+--------------------+-----------+----------+\n",
      "|[3.0,3.0999076366...|          0|       0.0|\n",
      "|[4.0,3.0999076366...|          0|       0.0|\n",
      "|[4.0,4.0,2.0,1.0,...|          0|       0.0|\n",
      "|[6.07729291915893...|          0|       0.0|\n",
      "|[6.07729291915893...|          0|       0.0|\n",
      "+--------------------+-----------+----------+\n",
      "only showing top 5 rows\n",
      "\n",
      "Test Error = 0.0473166\n",
      "RandomForestClassificationModel: uid=RandomForestClassifier_59864d9f693f, numTrees=20, numClasses=2, numFeatures=6\n",
      "Accuracy: 0.9526834432771398\n",
      "AUC-ROC: 0.9537723488097006\n"
     ]
    }
   ],
   "source": [
    "from pyspark.ml.feature import VectorAssembler\n",
    "from pyspark.ml.classification import RandomForestClassifier\n",
    "from pyspark.ml.evaluation import MulticlassClassificationEvaluator\n",
    "from pyspark.ml.evaluation import BinaryClassificationEvaluator\n",
    "from pyspark.ml import Pipeline\n",
    "\n",
    "# Define the columns to be combined into features\n",
    "feature_cols = [\"overall_rating\", \"seat_comfort_rating\", \"cabin_staff_rating\", \n",
    "                 \"food_beverages_rating\", \"inflight_entertainment_rating\", \n",
    "                 \"value_money_rating\"]\n",
    "\n",
    "\"\"\"\n",
    "The code snippet (Random Forest and Decision Tree models for predicting Iris Plant Class) below has been adapted from\n",
    "https://github.com/azrazainol/SparkMLlib_RandForest_DecTree\n",
    "I have applied functionality in this area\n",
    "\"\"\"\n",
    "# Create a VectorAssembler to generate a new column called \"features\"\n",
    "assembler = VectorAssembler(inputCols=feature_cols, outputCol=\"features\")\n",
    "\n",
    "# Define the RandomForest classifier\n",
    "rf_classifier = RandomForestClassifier(labelCol=\"recommended\", featuresCol=\"features\")\n",
    "\n",
    "# Create a Pipeline\n",
    "pipeline = Pipeline(stages=[assembler, rf_classifier])\n",
    "\n",
    "# Split the data into training and testing sets\n",
    "train_data, test_data = airline_df_cleaned.randomSplit([0.7, 0.3], seed=1234)\n",
    "\n",
    "# Train the model\n",
    "model = pipeline.fit(train_data)\n",
    "\n",
    "# Make predictions\n",
    "predictions = model.transform(test_data)\n",
    "\n",
    "# Show the prediction results\n",
    "predictions.select(\"features\", \"recommended\", \"prediction\").show(5)\n",
    "\n",
    "\"\"\"\n",
    "The code snippet (Prediction and Accuracy Check) below has been adapted from\n",
    "https://www.datatechnotes.com/2021/12/mllib-random-forest-classification.html\n",
    "I have changed variable \n",
    "\"\"\"\n",
    "evaluator = MulticlassClassificationEvaluator(labelCol=\"recommended\", predictionCol=\"prediction\", metricName=\"accuracy\")\n",
    "# compute test_error\n",
    "test_error = evaluator.evaluate(predictions)\n",
    "print(\"Test Error = %g\" % (1.0 - test_error))\n",
    "\n",
    "rfModel = model.stages[-1]\n",
    "print(rfModel)\n",
    "\n",
    "# Accuracy\n",
    "accuracy = evaluator.evaluate(predictions)\n",
    "print(f\"Accuracy: {accuracy}\")\n",
    "\n",
    "AUC_ROC_evaluator = BinaryClassificationEvaluator(labelCol=\"recommended\", rawPredictionCol=\"prediction\", metricName=\"areaUnderROC\")\n",
    "roc_auc = AUC_ROC_evaluator.evaluate(predictions)\n",
    "print(f\"AUC-ROC: {roc_auc}\")\n"
   ]
  },
  {
   "cell_type": "code",
   "execution_count": 42,
   "metadata": {},
   "outputs": [
    {
     "data": {
      "image/png": "[encoded data removed]",
      "text/plain": [
       "<Figure size 720x432 with 1 Axes>"
      ]
     },
     "metadata": {
      "needs_background": "light"
     },
     "output_type": "display_data"
    },
    {
     "name": "stdout",
     "output_type": "stream",
     "text": [
      "AUC-ROC: 0.9892066042702505\n"
     ]
    }
   ],
   "source": [
    "import matplotlib.pyplot as plt\n",
    "import pandas as pd\n",
    "\n",
    "# Extract feature importances and organize into a DataFrame\n",
    "importance_df = pd.DataFrame({\n",
    "    'Feature': feature_cols,\n",
    "    'Importance': model.stages[-1].featureImportances\n",
    "}).sort_values(by=\"Importance\", ascending=False)\n",
    "\n",
    "# Display the plot\n",
    "plt.figure(figsize=(10, 6))\n",
    "bars = plt.barh(importance_df['Feature'], importance_df['Importance'], color='skyblue')\n",
    "plt.title('Random Forest Feature Importance', fontsize=18)\n",
    "plt.xlabel('Feature Importance', fontsize=14)\n",
    "plt.ylabel('Feature Name', fontsize=14)\n",
    "\n",
    "# Add importance values to the bars\n",
    "for bar in bars:\n",
    "    plt.text(bar.get_width(), bar.get_y() + bar.get_height() / 2, \n",
    "             f'{bar.get_width():.4f}', va='center', fontsize=12)\n",
    "\n",
    "# Invert y-axis to show the most important features at the top\n",
    "plt.gca().invert_yaxis()\n",
    "\n",
    "plt.tight_layout()\n",
    "plt.show()\n",
    "\n",
    "# Print AUC-ROC score\n",
    "print(f\"AUC-ROC: {roc_auc}\")\n"
   ]
  },
  {
   "cell_type": "code",
   "execution_count": 44,
   "metadata": {},
   "outputs": [
    {
     "data": {
      "image/png": "[encoded data removed]",
      "text/plain": [
       "<Figure size 720x432 with 1 Axes>"
      ]
     },
     "metadata": {
      "needs_background": "light"
     },
     "output_type": "display_data"
    }
   ],
   "source": [
    "from sklearn.metrics import roc_curve, auc\n",
    "\n",
    "# Extract the predicted probabilities for the positive class\n",
    "probabilities = predictions.select(\"probability\").rdd.map(lambda row: row[0][1]).collect()\n",
    "\n",
    "# Extract the true labels\n",
    "labels = predictions.select(\"recommended\").rdd.map(lambda row: row[0]).collect()\n",
    "\n",
    "# Compute the ROC curve and AUC\n",
    "fpr, tpr, thresholds = roc_curve(labels, probabilities)\n",
    "roc_auc = auc(fpr, tpr)\n",
    "\n",
    "# Display the plot\n",
    "plt.figure(figsize=(10, 6))\n",
    "plt.plot(fpr, tpr, color='darkorange', lw=2, label='ROC curve (area = %0.2f)' % roc_auc)\n",
    "plt.plot([0, 1], [0, 1], color='navy', lw=2, linestyle='--')\n",
    "plt.xlim([0.0, 1.0])\n",
    "plt.ylim([0.0, 1.05])\n",
    "plt.xlabel('False Positive Rate')\n",
    "plt.ylabel('True Positive Rate')\n",
    "plt.title('Receiver Operating Characteristic (ROC) Curve')\n",
    "plt.legend(loc=\"lower right\")\n",
    "plt.show()\n"
   ]
  },
  {
   "cell_type": "code",
   "execution_count": 47,
   "metadata": {},
   "outputs": [
    {
     "data": {
      "image/png": "[encoded data removed]",
      "text/plain": [
       "<Figure size 576x432 with 1 Axes>"
      ]
     },
     "metadata": {
      "needs_background": "light"
     },
     "output_type": "display_data"
    }
   ],
   "source": [
    "from sklearn.metrics import confusion_matrix\n",
    "import seaborn as sns\n",
    "import numpy as np\n",
    "\n",
    "# Collect the actual labels\n",
    "y_true = predictions.select(\"recommended\").rdd.map(lambda row: row[0]).collect()\n",
    "\n",
    "# Collect the predicted labels\n",
    "y_pred = predictions.select(\"prediction\").rdd.map(lambda row: row[0]).collect()\n",
    "\n",
    "# Compute the confusion matrix\n",
    "mat = confusion_matrix(y_true, y_pred)\n",
    "\n",
    "# Create a heatmap for the confusion matrix\n",
    "sns.heatmap(mat.T, square=True, annot=True, fmt='d', cbar=False,\n",
    "            xticklabels=[\"Not Recommended\", \"Recommended\"],\n",
    "            yticklabels=[\"Not Recommended\", \"Recommended\"])\n",
    "\n",
    "# Display\n",
    "plt.figure(figsize=(8, 6)) \n",
    "plt.xlabel('True label')\n",
    "plt.ylabel('Predicted label')\n",
    "plt.title('Confusion Matrix')\n",
    "plt.show()"
   ]
  },
  {
   "cell_type": "code",
   "execution_count": null,
   "metadata": {},
   "outputs": [],
   "source": []
  }
 ],
 "metadata": {
  "kernelspec": {
   "display_name": "Python 3",
   "language": "python",
   "name": "python3"
  },
  "language_info": {
   "codemirror_mode": {
    "name": "ipython",
    "version": 3
   },
   "file_extension": ".py",
   "mimetype": "text/x-python",
   "name": "python",
   "nbconvert_exporter": "python",
   "pygments_lexer": "ipython3",
   "version": "3.8.6"
  }
 },
 "nbformat": 4,
 "nbformat_minor": 4
}
